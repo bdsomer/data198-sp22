{
 "cells": [
  {
   "cell_type": "markdown",
   "id": "03db87fa",
   "metadata": {},
   "source": [
    "# Jupyter Notebook Example\n",
    "\n",
    "This is an example Jupyter Notebook, by Bennett Somerville."
   ]
  },
  {
   "cell_type": "code",
   "execution_count": 2,
   "id": "db018185",
   "metadata": {},
   "outputs": [
    {
     "name": "stdout",
     "output_type": "stream",
     "text": [
      "Hello, world!\n"
     ]
    }
   ],
   "source": [
    "print('Hello, world!')"
   ]
  }
 ],
 "metadata": {
  "kernelspec": {
   "display_name": "Python 3 (ipykernel)",
   "language": "python",
   "name": "python3"
  },
  "language_info": {
   "codemirror_mode": {
    "name": "ipython",
    "version": 3
   },
   "file_extension": ".py",
   "mimetype": "text/x-python",
   "name": "python",
   "nbconvert_exporter": "python",
   "pygments_lexer": "ipython3",
   "version": "3.10.2"
  }
 },
 "nbformat": 4,
 "nbformat_minor": 5
}
